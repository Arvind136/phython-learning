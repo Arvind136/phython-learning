{
  "nbformat": 4,
  "nbformat_minor": 0,
  "metadata": {
    "colab": {
      "name": "Model 2.ipynb",
      "provenance": [],
      "authorship_tag": "ABX9TyNqEn2VDtDqBVEtOJ6IIQRf",
      "include_colab_link": true
    },
    "kernelspec": {
      "name": "python3",
      "display_name": "Python 3"
    },
    "language_info": {
      "name": "python"
    }
  },
  "cells": [
    {
      "cell_type": "markdown",
      "metadata": {
        "id": "view-in-github",
        "colab_type": "text"
      },
      "source": [
        "<a href=\"https://colab.research.google.com/github/Arvind136/phython-learning/blob/main/Model_2.ipynb\" target=\"_parent\"><img src=\"https://colab.research.google.com/assets/colab-badge.svg\" alt=\"Open In Colab\"/></a>"
      ]
    },
    {
      "cell_type": "code",
      "metadata": {
        "colab": {
          "base_uri": "https://localhost:8080/"
        },
        "id": "ueCs7a9lBcpn",
        "outputId": "7a277011-0aa5-468c-90a0-9ce0755a6e9b"
      },
      "source": [
        "# for x in \"apple\":\n",
        "#   print(x,end=\" \")\n",
        "\n",
        "# for i in range(1,100,2):\n",
        "#   print(i)\n",
        "\n",
        "# sum=0\n",
        "# for i in range(6):\n",
        "#   sum=sum+i\n",
        "# print(sum)\n",
        "\n",
        "\n",
        "# for i in range(1,11):\n",
        "#   if(i==5):\n",
        "#     continue\n",
        "#   print(i)\n",
        "\n",
        "\n",
        "# i=0\n",
        "# while(i<10):\n",
        "#   i+=1\n",
        "#   if(i==5):\n",
        "#     continue\n",
        "#   print(i)\n",
        "\n",
        "for i in range(1,5):\n",
        "  for j in range(1,5):\n",
        "    print(i+j,end=\" \")\n",
        "  print(\"\")  \n",
        "\n",
        " \n"
      ],
      "execution_count": null,
      "outputs": [
        {
          "output_type": "stream",
          "name": "stdout",
          "text": [
            "2 3 4 5 \n",
            "3 4 5 6 \n",
            "4 5 6 7 \n",
            "5 6 7 8 \n"
          ]
        }
      ]
    }
  ]
}