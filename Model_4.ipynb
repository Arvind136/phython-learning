{
  "nbformat": 4,
  "nbformat_minor": 0,
  "metadata": {
    "colab": {
      "name": "Model 4.ipynb",
      "provenance": [],
      "collapsed_sections": [],
      "authorship_tag": "ABX9TyPOhntFaBErrqrbPqGZ7W99",
      "include_colab_link": true
    },
    "kernelspec": {
      "name": "python3",
      "display_name": "Python 3"
    },
    "language_info": {
      "name": "python"
    }
  },
  "cells": [
    {
      "cell_type": "markdown",
      "metadata": {
        "id": "view-in-github",
        "colab_type": "text"
      },
      "source": [
        "<a href=\"https://colab.research.google.com/github/Arvind136/phython-learning/blob/main/Model_4.ipynb\" target=\"_parent\"><img src=\"https://colab.research.google.com/assets/colab-badge.svg\" alt=\"Open In Colab\"/></a>"
      ]
    },
    {
      "cell_type": "code",
      "metadata": {
        "id": "comTQs3sBiqz"
      },
      "source": [
        "#strings\n",
        "# hi=\"Hello\"\n",
        "# duniya=\"World\"\n",
        "\n",
        "# s=\"Tony stark Iron Man* Captain America spider Man\"\n",
        "# # print(s[6], s[7])\n",
        "# print(s[0:10])\n",
        "# print(s[:10])\n",
        "# print(s[8:])\n",
        "# print(s[10:15])\n",
        "\n",
        "# name=input(\"Enter your name\")\n",
        "# print(hi,name)\n",
        "# print(s,\"thor\")\n",
        "\n",
        "# hi+=duniya\n",
        "# print(hi)\n",
        "\n",
        "# duniya+=\"r\"\n",
        "# print(duniya)\n",
        "\n",
        "# duniya=\"r\"+duniya\n",
        "# print(duniya)\n",
        "\n",
        "# ls1=[1,2,3,4,5]\n",
        "# ls2=[6,7,8,9]\n",
        "# print(ls1+ls2)\n",
        "# print(ls1*3)\n",
        "\n",
        "# string=\"Python lovers\"\n",
        "\n",
        "# for i in range(len(string)):\n",
        "#   if string[i]==\"l\":\n",
        "#     print(i)\n",
        "\n",
        "# char=\"o\"\n",
        "# print(string.find(char))\n",
        "# print(string.rfind(char))\n",
        "\n",
        "# s=\"the avengers\"\n",
        "# print(s.upper())\n",
        "# print(s.lower())\n",
        "# print(s.capitalize())\n",
        "\n",
        "# print(s.split(\"*\"))\n",
        "# print(s.count(\"o\"))\n",
        "\n",
        "# s1=\"er\"\n",
        "# print(s1.zfill(7)) \n",
        "\n"
      ],
      "execution_count": null,
      "outputs": []
    },
    {
      "cell_type": "code",
      "metadata": {
        "id": "3lhi1ikBRHWu"
      },
      "source": [
        "#Dictionary\n",
        "d={\"name\":[\"Arvind\", \"Kumar\", \"Shah\"],\"college\":\"1st year\",\"marks\":\"316\",00:{\"age\":19}}\n",
        "# print(d)\n",
        "# print(d[\"name\"])\n",
        "# print(d[\"marks\"])\n",
        "\n",
        "# for i in d.keys():\n",
        "#   print(d[i])\n",
        "\n",
        "# print(d.keys())\n",
        "# print(d.values())\n",
        "\n",
        "# print(type(d[\"name\"]))\n",
        "\n",
        "# print(d[00][\"age\"])\n",
        "\n",
        "# d[\"sports\"]=\"Athlete\"\n",
        "# print(d)\n",
        "\n",
        "# print(d[\"name\"][:2])\n",
        "\n",
        "# d.update({\"Goal\":\"Rich\"})\n",
        "# print(d)\n",
        "\n",
        "# d.clear()\n",
        "# print(d)\n"
      ],
      "execution_count": null,
      "outputs": []
    },
    {
      "cell_type": "code",
      "metadata": {
        "id": "aHMo-UkKbNUT"
      },
      "source": [
        "#function me function\n",
        "\n",
        "# def ping(n):\n",
        "#   if n%2==0:\n",
        "#     return True\n",
        "\n",
        "#   return False  \n",
        "\n",
        "# def printing(num):\n",
        "#      val=ping(num)\n",
        "#      if val==True:\n",
        "#        print(\"the number is even\")\n",
        "     \n",
        "#      else:\n",
        "#        print(\"the number is odd\")\n",
        "\n",
        "# number=int(input())       \n",
        "# printing(number)"
      ],
      "execution_count": null,
      "outputs": []
    },
    {
      "cell_type": "code",
      "metadata": {
        "colab": {
          "base_uri": "https://localhost:8080/"
        },
        "id": "GSPmxZWteul6",
        "outputId": "4db79d0e-f50c-4b91-c3b2-72255d0736d9"
      },
      "source": [
        "#Packages\n",
        "# import math\n",
        "\n",
        "# print(math.pi)\n",
        "\n",
        "# from math import*\n",
        "# print(pi)\n",
        "# print(factorial(6))"
      ],
      "execution_count": null,
      "outputs": [
        {
          "output_type": "stream",
          "name": "stdout",
          "text": [
            "3.141592653589793\n",
            "720\n"
          ]
        }
      ]
    }
  ]
}