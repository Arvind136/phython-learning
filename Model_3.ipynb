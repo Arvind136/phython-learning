{
  "nbformat": 4,
  "nbformat_minor": 0,
  "metadata": {
    "colab": {
      "name": "Model 3.ipynb",
      "provenance": [],
      "authorship_tag": "ABX9TyOjW/2FjsTsbmb5kxbfkGxv",
      "include_colab_link": true
    },
    "kernelspec": {
      "name": "python3",
      "display_name": "Python 3"
    },
    "language_info": {
      "name": "python"
    }
  },
  "cells": [
    {
      "cell_type": "markdown",
      "metadata": {
        "id": "view-in-github",
        "colab_type": "text"
      },
      "source": [
        "<a href=\"https://colab.research.google.com/github/Arvind136/phython-learning/blob/main/Model_3.ipynb\" target=\"_parent\"><img src=\"https://colab.research.google.com/assets/colab-badge.svg\" alt=\"Open In Colab\"/></a>"
      ]
    },
    {
      "cell_type": "code",
      "metadata": {
        "colab": {
          "base_uri": "https://localhost:8080/"
        },
        "id": "JDidKcRqqVvo",
        "outputId": "bab3a51e-cbad-4cd3-dc45-5682caf3f0d6"
      },
      "source": [
        "# ls=[\"Arvind\",\"Anit\",\"Adarsh\",543254]\n",
        "# print(ls)\n",
        "# print(type(ls))\n",
        "# print(ls[-2])\n",
        "# print(len(ls))\n",
        "# print(ls[0],ls[2])\n",
        "# ls[2]=\"Aadarsh\"\n",
        "# ls[-1]= True\n",
        "# print(ls)\n",
        "# ls.append(999)\n",
        "# print(ls)\n",
        "# ls.insert(2,\"Sumit\")\n",
        "# print(ls)\n",
        "# del(ls[2])\n",
        "# print(ls)\n",
        "\n",
        "# print(ls[1:3])\n",
        "# print(ls[1: ])\n",
        "# print(ls[ :3])\n",
        "# print(ls[:])\n",
        "\n",
        "# for i in range(len(ls)):\n",
        "#   print(ls[i])\n",
        "\n",
        "# ls=[1,2,3,4,5,6]\n",
        "\n",
        "# maximum=0\n",
        "# for i in ls:\n",
        "#   if i>maximum :\n",
        "#     maximum=i\n",
        "# print(i) \n",
        "# print(max(ls))   \n",
        "\n",
        "# minimum=1000 \n",
        "# for i in ls:\n",
        "#   if (i<minimum):\n",
        "#     minimum=i\n",
        "# print(minimum)    \n",
        "# print(min(ls))\n",
        "\n",
        "\n",
        "# def length(ls):\n",
        "#   count=0\n",
        "#   for i in ls:\n",
        "#     count+=1\n",
        "#   return count  \n",
        "\n",
        "# ls=[1,2,3,4,5,6,7,8,9,10,11,12]\n",
        "# for i in range(length(ls)):\n",
        "#   print(ls[i])\n",
        "\n",
        "\n",
        "# ls1=[54365,574368,254,35,365]\n",
        "# print(length(ls1))\n",
        "\n",
        "\n",
        "# def minimum(ls):\n",
        "#   minimum=1000000000000\n",
        "#   for i in ls:\n",
        "#     if (i<minimum):\n",
        "#       minimum=i\n",
        "#   return minimum\n",
        "\n",
        "# ls2=[1,2,3,4,5,6,78,9,6]\n",
        "# print(minimum(ls2))\n",
        "\n",
        "# ls=[1,2,3,4,5,6,7,8,9]\n",
        "# sums=0\n",
        "# for i in ls:\n",
        "#   sums+=i\n",
        "\n",
        "# print(sums)\n",
        "\n",
        "ls=input()\n",
        "print(ls.split())"
      ],
      "execution_count": null,
      "outputs": [
        {
          "output_type": "stream",
          "name": "stdout",
          "text": [
            "hiw are ypou\n",
            "['hiw', 'are', 'ypou']\n"
          ]
        }
      ]
    }
  ]
}